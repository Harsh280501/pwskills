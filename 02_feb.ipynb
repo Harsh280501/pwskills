{
 "cells": [
  {
   "cell_type": "markdown",
   "id": "89a1a8cc-3182-4343-8da7-cf4af2c08edc",
   "metadata": {},
   "source": [
    "# Q1 Explain with an example each when to use a for loop and a while loop.\n",
    "\n",
    "For Loop :\n",
    "\n",
    "For loop is used to iterate a list or dict or a tuple or a set until the given condition satisfies itself.\n",
    "\n",
    "While loop :\n",
    "\n",
    "While loop means running a loop until the conditions dosent satisfies and the loop stops running"
   ]
  },
  {
   "cell_type": "code",
   "execution_count": 1,
   "id": "7c5f5170-4046-4d27-bffa-dc992af31061",
   "metadata": {},
   "outputs": [
    {
     "name": "stdout",
     "output_type": "stream",
     "text": [
      "1\n",
      "2\n",
      "3\n",
      "4\n",
      "5\n"
     ]
    }
   ],
   "source": [
    "l1 = [1,2,3,4,5]\n",
    "\n",
    "for i in l1 :\n",
    "    \n",
    "    print(i)"
   ]
  },
  {
   "cell_type": "code",
   "execution_count": 2,
   "id": "662fa111-68ff-4791-9942-ff305ce9bc9f",
   "metadata": {},
   "outputs": [
    {
     "name": "stdout",
     "output_type": "stream",
     "text": [
      "1\n",
      "2\n",
      "3\n",
      "4\n",
      "5\n"
     ]
    }
   ],
   "source": [
    "i = 1\n",
    "while i < 6:\n",
    "    \n",
    "    print(i)\n",
    "    i += 1\n",
    "    "
   ]
  },
  {
   "cell_type": "markdown",
   "id": "a3da6bb1-643e-4e32-89fa-91d23a78f10a",
   "metadata": {},
   "source": [
    "# Q2 Write a python program to print the sum and product of the first 10 natural numbers using for and while loop.\n"
   ]
  },
  {
   "cell_type": "code",
   "execution_count": 3,
   "id": "58b4c55f-2bf1-47b4-85cc-ced1b1faf96d",
   "metadata": {},
   "outputs": [
    {
     "name": "stdout",
     "output_type": "stream",
     "text": [
      "55\n",
      "3628800\n"
     ]
    }
   ],
   "source": [
    "addition = 0\n",
    "\n",
    "product = 1\n",
    "\n",
    "for i in range(1,11):\n",
    "    \n",
    "    addition = addition + i \n",
    "    \n",
    "    product = product * i\n",
    "print(addition)\n",
    "print(product)"
   ]
  },
  {
   "cell_type": "markdown",
   "id": "c0d21224-e2fd-4cb6-8a13-60a990b0505f",
   "metadata": {},
   "source": [
    "# Q3 Create a python program to compute the electricity bill for a household. The per-unit charges in rupees are as follows: For the first 100 units, the user will be charged Rs. 4.5 perunit, for the next 100 units, the user will be charged Rs. 6 per unit, and for the next 100 units, the user willbe charged Rs. 10 per unit, After 300 units and above the user will be charged Rs. 20 per unit."
   ]
  },
  {
   "cell_type": "code",
   "execution_count": 4,
   "id": "9793e610-0d84-4024-b7d7-29a4af237cfc",
   "metadata": {},
   "outputs": [
    {
     "name": "stdin",
     "output_type": "stream",
     "text": [
      "Enter the unit consumed :  350\n"
     ]
    },
    {
     "name": "stdout",
     "output_type": "stream",
     "text": [
      "3050.0\n"
     ]
    }
   ],
   "source": [
    "unit  = int(input(\"Enter the unit consumed : \"))\n",
    "bill = 0\n",
    "if unit > 300 :\n",
    "    \n",
    "    bill = ((unit - 300) * 20) + (100 * 4.5) + (100 * 6) + (100 * 10)\n",
    "    \n",
    "elif unit <= 300 and unit >= 200 :\n",
    "    \n",
    "    bill = ((unit - 200) * 10) + (100 * 4.5) + (100 * 6)\n",
    "      \n",
    "elif unit <= 200 and unit >= 100 :\n",
    "    \n",
    "    bill = ((unit - 100) * 6) + (100 * 4.5)\n",
    "    \n",
    "else : \n",
    "    \n",
    "    bill = unit * 4.5\n",
    "    \n",
    "print(bill)    \n"
   ]
  },
  {
   "cell_type": "markdown",
   "id": "956cccac-6b7a-44ea-9f26-b43da9a6459b",
   "metadata": {},
   "source": [
    "# Q4 Create a list of numbers from 1 to 100. Use for loop and while loop to calculate the cube of each number and if the cube of that number is divisible by 4 or 5 then append that number in a list and print that list."
   ]
  },
  {
   "cell_type": "code",
   "execution_count": 5,
   "id": "c1875194-668a-4d0a-b2e3-9463d1cb0e27",
   "metadata": {},
   "outputs": [],
   "source": [
    "list_cube = list(range(1,101))\n",
    "cube_for = []"
   ]
  },
  {
   "cell_type": "code",
   "execution_count": 6,
   "id": "795e921d-e458-49da-a17e-b8484c7f1d97",
   "metadata": {},
   "outputs": [
    {
     "name": "stdout",
     "output_type": "stream",
     "text": [
      "[8, 64, 125, 216, 512, 1000, 1728, 2744, 3375, 4096, 5832, 8000, 10648, 13824, 15625, 17576, 21952, 27000, 32768, 39304, 42875, 46656, 54872, 64000, 74088, 85184, 91125, 97336, 110592, 125000, 140608, 157464, 166375, 175616, 195112, 216000, 238328, 262144, 274625, 287496, 314432, 343000, 373248, 405224, 421875, 438976, 474552, 512000, 551368, 592704, 614125, 636056, 681472, 729000, 778688, 830584, 857375, 884736, 941192, 1000000]\n"
     ]
    }
   ],
   "source": [
    "for i in list_cube :\n",
    "    \n",
    "    cube = i * i * i\n",
    "    \n",
    "    if cube % 4 == 0 or cube % 5 == 0  :\n",
    "        \n",
    "        cube_for.append(cube)\n",
    "        \n",
    "\n",
    "print(cube_for)"
   ]
  },
  {
   "cell_type": "code",
   "execution_count": 7,
   "id": "f4c162e0-f5bb-4787-9133-e8d2ec40b928",
   "metadata": {},
   "outputs": [
    {
     "name": "stdout",
     "output_type": "stream",
     "text": [
      "[8, 64, 125, 216, 512, 1000, 1728, 2744, 3375, 4096, 5832, 8000, 10648, 13824, 15625, 17576, 21952, 27000, 32768, 39304, 42875, 46656, 54872, 64000, 74088, 85184, 91125, 97336, 110592, 125000, 140608, 157464, 166375, 175616, 195112, 216000, 238328, 262144, 274625, 287496, 314432, 343000, 373248, 405224, 421875, 438976, 474552, 512000, 551368, 592704, 614125, 636056, 681472, 729000, 778688, 830584, 857375, 884736, 941192, 1000000]\n"
     ]
    }
   ],
   "source": [
    "cube_while = []\n",
    "i = 1\n",
    "\n",
    "while i in list_cube :\n",
    "    \n",
    "    cube = i * i * i\n",
    "    \n",
    "    if cube % 4 == 0 or cube % 5 == 0  :\n",
    "        \n",
    "        cube_while.append(cube)\n",
    "    i += 1\n",
    "    \n",
    "print(cube_while)\n",
    "    \n",
    "    "
   ]
  },
  {
   "cell_type": "markdown",
   "id": "e7b384f9-c841-4590-80ba-65f74d10eb28",
   "metadata": {},
   "source": [
    "# Q5 Write a program to filter count vowels in the below-given string. string = \"I want to become a data scientist\""
   ]
  },
  {
   "cell_type": "code",
   "execution_count": 8,
   "id": "c575aa85-d590-4546-8517-774be5382a7c",
   "metadata": {},
   "outputs": [
    {
     "name": "stdout",
     "output_type": "stream",
     "text": [
      "{'a': 4, 'e': 3, 'i': 3, 'o': 2, 'u': 0}\n"
     ]
    }
   ],
   "source": [
    "\n",
    "string = \"I want to become a data scientist\"\n",
    "string = string.lower()\n",
    "vowels = \"aeiou\"\n",
    "count = {}.fromkeys(vowels, 0)\n",
    "     \n",
    "    # To count the vowels\n",
    "for character in string:\n",
    "    \n",
    "    if character in count:\n",
    "        count[character] += 1   \n",
    "print(count)\n",
    "        "
   ]
  }
 ],
 "metadata": {
  "kernelspec": {
   "display_name": "Python 3 (ipykernel)",
   "language": "python",
   "name": "python3"
  },
  "language_info": {
   "codemirror_mode": {
    "name": "ipython",
    "version": 3
   },
   "file_extension": ".py",
   "mimetype": "text/x-python",
   "name": "python",
   "nbconvert_exporter": "python",
   "pygments_lexer": "ipython3",
   "version": "3.10.8"
  }
 },
 "nbformat": 4,
 "nbformat_minor": 5
}
