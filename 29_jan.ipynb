{
 "cells": [
  {
   "cell_type": "markdown",
   "id": "67093a91-8736-4eb2-95d7-c749ea7fbefd",
   "metadata": {},
   "source": [
    "Q1: Who Developed  Python Programming language \n",
    "\n",
    "Ans: Guido van Rossum "
   ]
  },
  {
   "cell_type": "markdown",
   "id": "3181004b-f906-43fb-92a0-75d5c3cd0a9d",
   "metadata": {},
   "source": [
    "Q2: Which type of programming does python support\n",
    "\n",
    "Ans: Python is an interpreted programming language, supporting object-oriented, structured, and functional programming."
   ]
  },
  {
   "cell_type": "markdown",
   "id": "de37c0c8-0ee7-4f17-a017-d14aa4f09978",
   "metadata": {},
   "source": [
    "Q3: Is Python case sensitive when dealing with identifiers \n",
    "\n",
    "Ans: Yes"
   ]
  },
  {
   "cell_type": "markdown",
   "id": "6938a7f2-8eb8-4685-94f0-ee9fde2db2f4",
   "metadata": {},
   "source": [
    "Q4: What is the correct extension of the Python file \n",
    "\n",
    "Ans: .py"
   ]
  },
  {
   "cell_type": "markdown",
   "id": "90e4a2ae-7e10-4472-ba8b-092263acb6e1",
   "metadata": {},
   "source": [
    "Q5: Is python code compiled or interpreted ?\n",
    "\n",
    "Ans: Interpreted"
   ]
  },
  {
   "cell_type": "markdown",
   "id": "c258821d-473c-46c3-a259-2d83f0d44b92",
   "metadata": {},
   "source": [
    "Q6: Name a few blocks of code used to define in python languages ?\n",
    "\n",
    "Ans: Indentation"
   ]
  },
  {
   "cell_type": "markdown",
   "id": "e8c4c6a9-2413-41a6-ba22-22bcbc701fef",
   "metadata": {},
   "source": [
    "Q7: State a character used to comment a single line ?\n",
    "    \n",
    "Ans: # is used to make a single line commit"
   ]
  },
  {
   "cell_type": "markdown",
   "id": "6e36c581-1a00-408e-a626-98b18c83341f",
   "metadata": {},
   "source": [
    "Q8: Mention the function which can help us to find the version of python that we are currently working on ?\n",
    "\n",
    "Ans: Sys.version"
   ]
  },
  {
   "cell_type": "markdown",
   "id": "718bf55c-ae2c-4ca8-92b9-3557e62f8a50",
   "metadata": {},
   "source": [
    "Q9: Python support  the creation of anonymous function at runtime, using a construct called ?\n",
    "\n",
    "Ans: Lambda"
   ]
  },
  {
   "cell_type": "markdown",
   "id": "52fdd89d-5b18-4a27-a7aa-0ff66dbec62c",
   "metadata": {},
   "source": [
    "Q10: What does pip stand for ?\n",
    "\n",
    "Ans:Python pip is the package manager for Python packages. We can use pip to install packages that do not come with Python. "
   ]
  },
  {
   "cell_type": "markdown",
   "id": "ec89f7c3-b110-4e94-bf3a-2de999546d9c",
   "metadata": {},
   "source": [
    "Q11: Mention few in built functions of python\n",
    "    \n",
    "Ans: print(), abs(), pow() etc."
   ]
  },
  {
   "cell_type": "markdown",
   "id": "e9f83519-2e40-4d57-ac01-d9bf38226de8",
   "metadata": {},
   "source": [
    "Q12: What is the possible maximum length of an identifier in Python ?\n",
    "    \n",
    "Ans: 79 Characters"
   ]
  },
  {
   "cell_type": "markdown",
   "id": "b9b69928-3b56-4314-aae4-b6ca4f70417a",
   "metadata": {},
   "source": [
    "Q13: What are the benefits of using python ?\n",
    "\n",
    "Ans: Open-source , versality , easy intergrations"
   ]
  },
  {
   "cell_type": "markdown",
   "id": "0b6d9716-7e7c-4e20-9f5c-f56c53fd25a1",
   "metadata": {},
   "source": [
    "Q14: how is memory managed in python\n",
    "\n",
    "Ans: In Python memory allocation and deallocation method is automatic as the Python developers created a garbage collector for Python so that the user does not have to do manual garbage collection"
   ]
  },
  {
   "cell_type": "markdown",
   "id": "31c9862a-f007-4d8e-ba0c-026cdf610357",
   "metadata": {},
   "source": [
    "Q15: How to install python on windows  and set path variables\n",
    "\n",
    "Ans: Now, after adding the Python to the Environment variable, let’s check if the Python is running anywhere in the windows or not. To do this open CMD and type Python. If the environment variable is set then the Python command will run otherwise not."
   ]
  },
  {
   "cell_type": "markdown",
   "id": "ca692d83-32c3-4b20-a95d-a45fac5f5507",
   "metadata": {},
   "source": [
    "Q16: Is indentation required in python ?\n",
    "\n",
    "Ans: Yes"
   ]
  },
  {
   "cell_type": "code",
   "execution_count": null,
   "id": "7e8f08f8-acbe-4cf3-b89b-23e3f777140c",
   "metadata": {},
   "outputs": [],
   "source": []
  }
 ],
 "metadata": {
  "kernelspec": {
   "display_name": "Python 3 (ipykernel)",
   "language": "python",
   "name": "python3"
  },
  "language_info": {
   "codemirror_mode": {
    "name": "ipython",
    "version": 3
   },
   "file_extension": ".py",
   "mimetype": "text/x-python",
   "name": "python",
   "nbconvert_exporter": "python",
   "pygments_lexer": "ipython3",
   "version": "3.10.8"
  }
 },
 "nbformat": 4,
 "nbformat_minor": 5
}
